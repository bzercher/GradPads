{
 "cells": [
  {
   "cell_type": "code",
   "execution_count": 1,
   "metadata": {},
   "outputs": [],
   "source": [
    "import pandas as pd\n",
    "import folium\n",
    "import os\n",
    "from branca.colormap import linear"
   ]
  },
  {
   "cell_type": "markdown",
   "metadata": {},
   "source": [
    "Importing and manipulating data"
   ]
  },
  {
   "cell_type": "code",
   "execution_count": 2,
   "metadata": {},
   "outputs": [],
   "source": [
    "seattle_zips = [98125, 98133, 98177, 98117, 98107, 98103, 98115, 98105,\n",
    "                98112, 98102, 98109, 98119, 98199, 98121, 98101, 98104,\n",
    "                98122, 98144, 98134, 98108, 98118, 98106, 98126, 98116, \n",
    "                98136]\n",
    "\n",
    "zillow_columns = ['RegionName', 'City', 'State', '2018-09']"
   ]
  },
  {
   "cell_type": "code",
   "execution_count": 3,
   "metadata": {},
   "outputs": [],
   "source": [
    "def df_slicer(df, region_list, region_column_str, columns_list):\n",
    "    df = df[df[region_column_str].isin(region_list)]\n",
    "    df = df[columns_list]\n",
    "    df[region_column_str] = df[region_column_str].astype(str)\n",
    "    print(df)\n",
    "    return df"
   ]
  },
  {
   "cell_type": "markdown",
   "metadata": {},
   "source": [
    "Importing Studio Data"
   ]
  },
  {
   "cell_type": "code",
   "execution_count": 4,
   "metadata": {},
   "outputs": [],
   "source": [
    "studio_rental_path = os.path.join('..', 'data', 'Zip_MedianRentalPrice_Studio.csv')\n",
    "studio_rental = pd.read_csv(studio_rental_path)"
   ]
  },
  {
   "cell_type": "code",
   "execution_count": 5,
   "metadata": {},
   "outputs": [
    {
     "name": "stdout",
     "output_type": "stream",
     "text": [
      "    RegionName     City State  2018-09\n",
      "72       98103  Seattle    WA   1375.0\n",
      "109      98115  Seattle    WA   1443.0\n",
      "132      98122  Seattle    WA   1565.0\n",
      "222      98109  Seattle    WA   1850.0\n",
      "291      98105  Seattle    WA   1100.0\n",
      "352      98102  Seattle    WA   1448.0\n",
      "462      98107  Seattle    WA   1395.0\n",
      "512      98121  Seattle    WA   1800.0\n",
      "670      98101  Seattle    WA   1937.0\n",
      "769      98104  Seattle    WA   1650.0\n"
     ]
    }
   ],
   "source": [
    "studio_rental = df_slicer(studio_rental, seattle_zips, 'RegionName', zillow_columns)"
   ]
  },
  {
   "cell_type": "code",
   "execution_count": 6,
   "metadata": {},
   "outputs": [],
   "source": [
    "studio_rental_dict = studio_rental.set_index('RegionName')['2018-09']"
   ]
  },
  {
   "cell_type": "code",
   "execution_count": 7,
   "metadata": {},
   "outputs": [
    {
     "data": {
      "text/plain": [
       "numpy.float64"
      ]
     },
     "execution_count": 7,
     "metadata": {},
     "output_type": "execute_result"
    }
   ],
   "source": [
    "type(studio_rental_dict['98104'])"
   ]
  },
  {
   "cell_type": "markdown",
   "metadata": {},
   "source": [
    "Importing One Bedroom Zillow Rental Price Data"
   ]
  },
  {
   "cell_type": "code",
   "execution_count": 8,
   "metadata": {},
   "outputs": [],
   "source": [
    "onebr_rental_path = os.path.join('..', 'data', 'Zip_MedianRentalPrice_1Bedroom.csv')\n",
    "\n",
    "onebr_rental = pd.read_csv(onebr_rental_path)"
   ]
  },
  {
   "cell_type": "code",
   "execution_count": 9,
   "metadata": {},
   "outputs": [
    {
     "name": "stdout",
     "output_type": "stream",
     "text": [
      "     RegionName       City State  2018-09\n",
      "121       98103    Seattle    WA   1695.0\n",
      "195       98115    Seattle    WA   1724.5\n",
      "223       98133  Shoreline    WA   1446.0\n",
      "232       98122    Seattle    WA   2055.0\n",
      "359       98109    Seattle    WA   2350.0\n",
      "367       98125    Seattle    WA   1495.0\n",
      "457       98105    Seattle    WA   1465.0\n",
      "465       98118    Seattle    WA   1830.0\n",
      "556       98102    Seattle    WA   1695.0\n",
      "686       98107    Seattle    WA   1801.5\n",
      "691       98117    Seattle    WA   1595.0\n",
      "743       98121    Seattle    WA   2620.0\n",
      "757       98116    Seattle    WA   1801.0\n",
      "835       98119    Seattle    WA   1840.0\n",
      "964       98101    Seattle    WA   2475.0\n",
      "968       98112    Seattle    WA   1762.5\n",
      "1009      98126    Seattle    WA   1604.0\n",
      "1109      98104    Seattle    WA   1999.0\n"
     ]
    }
   ],
   "source": [
    "onebr_rental = df_slicer(onebr_rental, seattle_zips, 'RegionName', zillow_columns)"
   ]
  },
  {
   "cell_type": "code",
   "execution_count": 10,
   "metadata": {},
   "outputs": [],
   "source": [
    "onebr_rental_dict = onebr_rental.set_index('RegionName')['2018-09']"
   ]
  },
  {
   "cell_type": "code",
   "execution_count": 11,
   "metadata": {},
   "outputs": [
    {
     "data": {
      "text/html": [
       "<svg height=\"50\" width=\"500\"><line x1=\"0\" y1=\"0\" x2=\"0\" y2=\"20\" style=\"stroke:#ffffcc;stroke-width:3;\" /><line x1=\"1\" y1=\"0\" x2=\"1\" y2=\"20\" style=\"stroke:#ffffcc;stroke-width:3;\" /><line x1=\"2\" y1=\"0\" x2=\"2\" y2=\"20\" style=\"stroke:#ffffcb;stroke-width:3;\" /><line x1=\"3\" y1=\"0\" x2=\"3\" y2=\"20\" style=\"stroke:#ffffca;stroke-width:3;\" /><line x1=\"4\" y1=\"0\" x2=\"4\" y2=\"20\" style=\"stroke:#fffec9;stroke-width:3;\" /><line x1=\"5\" y1=\"0\" x2=\"5\" y2=\"20\" style=\"stroke:#fffec9;stroke-width:3;\" /><line x1=\"6\" y1=\"0\" x2=\"6\" y2=\"20\" style=\"stroke:#fffec8;stroke-width:3;\" /><line x1=\"7\" y1=\"0\" x2=\"7\" y2=\"20\" style=\"stroke:#fffdc7;stroke-width:3;\" /><line x1=\"8\" y1=\"0\" x2=\"8\" y2=\"20\" style=\"stroke:#fffdc7;stroke-width:3;\" /><line x1=\"9\" y1=\"0\" x2=\"9\" y2=\"20\" style=\"stroke:#fffdc6;stroke-width:3;\" /><line x1=\"10\" y1=\"0\" x2=\"10\" y2=\"20\" style=\"stroke:#fffdc5;stroke-width:3;\" /><line x1=\"11\" y1=\"0\" x2=\"11\" y2=\"20\" style=\"stroke:#fffcc5;stroke-width:3;\" /><line x1=\"12\" y1=\"0\" x2=\"12\" y2=\"20\" style=\"stroke:#fffcc4;stroke-width:3;\" /><line x1=\"13\" y1=\"0\" x2=\"13\" y2=\"20\" style=\"stroke:#fffcc3;stroke-width:3;\" /><line x1=\"14\" y1=\"0\" x2=\"14\" y2=\"20\" style=\"stroke:#fffbc2;stroke-width:3;\" /><line x1=\"15\" y1=\"0\" x2=\"15\" y2=\"20\" style=\"stroke:#fffbc2;stroke-width:3;\" /><line x1=\"16\" y1=\"0\" x2=\"16\" y2=\"20\" style=\"stroke:#fffbc1;stroke-width:3;\" /><line x1=\"17\" y1=\"0\" x2=\"17\" y2=\"20\" style=\"stroke:#fffbc0;stroke-width:3;\" /><line x1=\"18\" y1=\"0\" x2=\"18\" y2=\"20\" style=\"stroke:#fffac0;stroke-width:3;\" /><line x1=\"19\" y1=\"0\" x2=\"19\" y2=\"20\" style=\"stroke:#fffabf;stroke-width:3;\" /><line x1=\"20\" y1=\"0\" x2=\"20\" y2=\"20\" style=\"stroke:#fffabe;stroke-width:3;\" /><line x1=\"21\" y1=\"0\" x2=\"21\" y2=\"20\" style=\"stroke:#fff9bd;stroke-width:3;\" /><line x1=\"22\" y1=\"0\" x2=\"22\" y2=\"20\" style=\"stroke:#fff9bd;stroke-width:3;\" /><line x1=\"23\" y1=\"0\" x2=\"23\" y2=\"20\" style=\"stroke:#fff9bc;stroke-width:3;\" /><line x1=\"24\" y1=\"0\" x2=\"24\" y2=\"20\" style=\"stroke:#fff9bb;stroke-width:3;\" /><line x1=\"25\" y1=\"0\" x2=\"25\" y2=\"20\" style=\"stroke:#fff8bb;stroke-width:3;\" /><line x1=\"26\" y1=\"0\" x2=\"26\" y2=\"20\" style=\"stroke:#fff8ba;stroke-width:3;\" /><line x1=\"27\" y1=\"0\" x2=\"27\" y2=\"20\" style=\"stroke:#fff8b9;stroke-width:3;\" /><line x1=\"28\" y1=\"0\" x2=\"28\" y2=\"20\" style=\"stroke:#fff7b8;stroke-width:3;\" /><line x1=\"29\" y1=\"0\" x2=\"29\" y2=\"20\" style=\"stroke:#fff7b8;stroke-width:3;\" /><line x1=\"30\" y1=\"0\" x2=\"30\" y2=\"20\" style=\"stroke:#fff7b7;stroke-width:3;\" /><line x1=\"31\" y1=\"0\" x2=\"31\" y2=\"20\" style=\"stroke:#fff7b6;stroke-width:3;\" /><line x1=\"32\" y1=\"0\" x2=\"32\" y2=\"20\" style=\"stroke:#fff6b6;stroke-width:3;\" /><line x1=\"33\" y1=\"0\" x2=\"33\" y2=\"20\" style=\"stroke:#fff6b5;stroke-width:3;\" /><line x1=\"34\" y1=\"0\" x2=\"34\" y2=\"20\" style=\"stroke:#fff6b4;stroke-width:3;\" /><line x1=\"35\" y1=\"0\" x2=\"35\" y2=\"20\" style=\"stroke:#fff5b4;stroke-width:3;\" /><line x1=\"36\" y1=\"0\" x2=\"36\" y2=\"20\" style=\"stroke:#fff5b3;stroke-width:3;\" /><line x1=\"37\" y1=\"0\" x2=\"37\" y2=\"20\" style=\"stroke:#fff5b2;stroke-width:3;\" /><line x1=\"38\" y1=\"0\" x2=\"38\" y2=\"20\" style=\"stroke:#fff4b1;stroke-width:3;\" /><line x1=\"39\" y1=\"0\" x2=\"39\" y2=\"20\" style=\"stroke:#fff4b1;stroke-width:3;\" /><line x1=\"40\" y1=\"0\" x2=\"40\" y2=\"20\" style=\"stroke:#fff4b0;stroke-width:3;\" /><line x1=\"41\" y1=\"0\" x2=\"41\" y2=\"20\" style=\"stroke:#fff4af;stroke-width:3;\" /><line x1=\"42\" y1=\"0\" x2=\"42\" y2=\"20\" style=\"stroke:#fff3af;stroke-width:3;\" /><line x1=\"43\" y1=\"0\" x2=\"43\" y2=\"20\" style=\"stroke:#fff3ae;stroke-width:3;\" /><line x1=\"44\" y1=\"0\" x2=\"44\" y2=\"20\" style=\"stroke:#fff3ad;stroke-width:3;\" /><line x1=\"45\" y1=\"0\" x2=\"45\" y2=\"20\" style=\"stroke:#fff2ac;stroke-width:3;\" /><line x1=\"46\" y1=\"0\" x2=\"46\" y2=\"20\" style=\"stroke:#fff2ac;stroke-width:3;\" /><line x1=\"47\" y1=\"0\" x2=\"47\" y2=\"20\" style=\"stroke:#fff2ab;stroke-width:3;\" /><line x1=\"48\" y1=\"0\" x2=\"48\" y2=\"20\" style=\"stroke:#fff2aa;stroke-width:3;\" /><line x1=\"49\" y1=\"0\" x2=\"49\" y2=\"20\" style=\"stroke:#fff1aa;stroke-width:3;\" /><line x1=\"50\" y1=\"0\" x2=\"50\" y2=\"20\" style=\"stroke:#fff1a9;stroke-width:3;\" /><line x1=\"51\" y1=\"0\" x2=\"51\" y2=\"20\" style=\"stroke:#fff1a8;stroke-width:3;\" /><line x1=\"52\" y1=\"0\" x2=\"52\" y2=\"20\" style=\"stroke:#fff0a7;stroke-width:3;\" /><line x1=\"53\" y1=\"0\" x2=\"53\" y2=\"20\" style=\"stroke:#fff0a7;stroke-width:3;\" /><line x1=\"54\" y1=\"0\" x2=\"54\" y2=\"20\" style=\"stroke:#fff0a6;stroke-width:3;\" /><line x1=\"55\" y1=\"0\" x2=\"55\" y2=\"20\" style=\"stroke:#fff0a5;stroke-width:3;\" /><line x1=\"56\" y1=\"0\" x2=\"56\" y2=\"20\" style=\"stroke:#ffefa5;stroke-width:3;\" /><line x1=\"57\" y1=\"0\" x2=\"57\" y2=\"20\" style=\"stroke:#ffefa4;stroke-width:3;\" /><line x1=\"58\" y1=\"0\" x2=\"58\" y2=\"20\" style=\"stroke:#ffefa3;stroke-width:3;\" /><line x1=\"59\" y1=\"0\" x2=\"59\" y2=\"20\" style=\"stroke:#ffeea3;stroke-width:3;\" /><line x1=\"60\" y1=\"0\" x2=\"60\" y2=\"20\" style=\"stroke:#ffeea2;stroke-width:3;\" /><line x1=\"61\" y1=\"0\" x2=\"61\" y2=\"20\" style=\"stroke:#ffeea1;stroke-width:3;\" /><line x1=\"62\" y1=\"0\" x2=\"62\" y2=\"20\" style=\"stroke:#ffeea0;stroke-width:3;\" /><line x1=\"63\" y1=\"0\" x2=\"63\" y2=\"20\" style=\"stroke:#ffeda0;stroke-width:3;\" /><line x1=\"64\" y1=\"0\" x2=\"64\" y2=\"20\" style=\"stroke:#ffed9f;stroke-width:3;\" /><line x1=\"65\" y1=\"0\" x2=\"65\" y2=\"20\" style=\"stroke:#ffed9e;stroke-width:3;\" /><line x1=\"66\" y1=\"0\" x2=\"66\" y2=\"20\" style=\"stroke:#ffec9e;stroke-width:3;\" /><line x1=\"67\" y1=\"0\" x2=\"67\" y2=\"20\" style=\"stroke:#ffec9d;stroke-width:3;\" /><line x1=\"68\" y1=\"0\" x2=\"68\" y2=\"20\" style=\"stroke:#ffec9c;stroke-width:3;\" /><line x1=\"69\" y1=\"0\" x2=\"69\" y2=\"20\" style=\"stroke:#ffeb9c;stroke-width:3;\" /><line x1=\"70\" y1=\"0\" x2=\"70\" y2=\"20\" style=\"stroke:#ffeb9b;stroke-width:3;\" /><line x1=\"71\" y1=\"0\" x2=\"71\" y2=\"20\" style=\"stroke:#ffeb9a;stroke-width:3;\" /><line x1=\"72\" y1=\"0\" x2=\"72\" y2=\"20\" style=\"stroke:#ffea9a;stroke-width:3;\" /><line x1=\"73\" y1=\"0\" x2=\"73\" y2=\"20\" style=\"stroke:#ffea99;stroke-width:3;\" /><line x1=\"74\" y1=\"0\" x2=\"74\" y2=\"20\" style=\"stroke:#ffea98;stroke-width:3;\" /><line x1=\"75\" y1=\"0\" x2=\"75\" y2=\"20\" style=\"stroke:#ffe998;stroke-width:3;\" /><line x1=\"76\" y1=\"0\" x2=\"76\" y2=\"20\" style=\"stroke:#ffe997;stroke-width:3;\" /><line x1=\"77\" y1=\"0\" x2=\"77\" y2=\"20\" style=\"stroke:#ffe996;stroke-width:3;\" /><line x1=\"78\" y1=\"0\" x2=\"78\" y2=\"20\" style=\"stroke:#ffe896;stroke-width:3;\" /><line x1=\"79\" y1=\"0\" x2=\"79\" y2=\"20\" style=\"stroke:#ffe895;stroke-width:3;\" /><line x1=\"80\" y1=\"0\" x2=\"80\" y2=\"20\" style=\"stroke:#ffe894;stroke-width:3;\" /><line x1=\"81\" y1=\"0\" x2=\"81\" y2=\"20\" style=\"stroke:#ffe794;stroke-width:3;\" /><line x1=\"82\" y1=\"0\" x2=\"82\" y2=\"20\" style=\"stroke:#ffe793;stroke-width:3;\" /><line x1=\"83\" y1=\"0\" x2=\"83\" y2=\"20\" style=\"stroke:#ffe792;stroke-width:3;\" /><line x1=\"84\" y1=\"0\" x2=\"84\" y2=\"20\" style=\"stroke:#ffe692;stroke-width:3;\" /><line x1=\"85\" y1=\"0\" x2=\"85\" y2=\"20\" style=\"stroke:#ffe691;stroke-width:3;\" /><line x1=\"86\" y1=\"0\" x2=\"86\" y2=\"20\" style=\"stroke:#ffe690;stroke-width:3;\" /><line x1=\"87\" y1=\"0\" x2=\"87\" y2=\"20\" style=\"stroke:#ffe68f;stroke-width:3;\" /><line x1=\"88\" y1=\"0\" x2=\"88\" y2=\"20\" style=\"stroke:#ffe58f;stroke-width:3;\" /><line x1=\"89\" y1=\"0\" x2=\"89\" y2=\"20\" style=\"stroke:#ffe58e;stroke-width:3;\" /><line x1=\"90\" y1=\"0\" x2=\"90\" y2=\"20\" style=\"stroke:#ffe58d;stroke-width:3;\" /><line x1=\"91\" y1=\"0\" x2=\"91\" y2=\"20\" style=\"stroke:#ffe48d;stroke-width:3;\" /><line x1=\"92\" y1=\"0\" x2=\"92\" y2=\"20\" style=\"stroke:#ffe48c;stroke-width:3;\" /><line x1=\"93\" y1=\"0\" x2=\"93\" y2=\"20\" style=\"stroke:#ffe48b;stroke-width:3;\" /><line x1=\"94\" y1=\"0\" x2=\"94\" y2=\"20\" style=\"stroke:#ffe38b;stroke-width:3;\" /><line x1=\"95\" y1=\"0\" x2=\"95\" y2=\"20\" style=\"stroke:#ffe38a;stroke-width:3;\" /><line x1=\"96\" y1=\"0\" x2=\"96\" y2=\"20\" style=\"stroke:#ffe389;stroke-width:3;\" /><line x1=\"97\" y1=\"0\" x2=\"97\" y2=\"20\" style=\"stroke:#ffe289;stroke-width:3;\" /><line x1=\"98\" y1=\"0\" x2=\"98\" y2=\"20\" style=\"stroke:#ffe288;stroke-width:3;\" /><line x1=\"99\" y1=\"0\" x2=\"99\" y2=\"20\" style=\"stroke:#ffe287;stroke-width:3;\" /><line x1=\"100\" y1=\"0\" x2=\"100\" y2=\"20\" style=\"stroke:#ffe187;stroke-width:3;\" /><line x1=\"101\" y1=\"0\" x2=\"101\" y2=\"20\" style=\"stroke:#ffe186;stroke-width:3;\" /><line x1=\"102\" y1=\"0\" x2=\"102\" y2=\"20\" style=\"stroke:#ffe185;stroke-width:3;\" /><line x1=\"103\" y1=\"0\" x2=\"103\" y2=\"20\" style=\"stroke:#ffe085;stroke-width:3;\" /><line x1=\"104\" y1=\"0\" x2=\"104\" y2=\"20\" style=\"stroke:#ffe084;stroke-width:3;\" /><line x1=\"105\" y1=\"0\" x2=\"105\" y2=\"20\" style=\"stroke:#ffe083;stroke-width:3;\" /><line x1=\"106\" y1=\"0\" x2=\"106\" y2=\"20\" style=\"stroke:#ffdf83;stroke-width:3;\" /><line x1=\"107\" y1=\"0\" x2=\"107\" y2=\"20\" style=\"stroke:#ffdf82;stroke-width:3;\" /><line x1=\"108\" y1=\"0\" x2=\"108\" y2=\"20\" style=\"stroke:#ffdf81;stroke-width:3;\" /><line x1=\"109\" y1=\"0\" x2=\"109\" y2=\"20\" style=\"stroke:#ffde81;stroke-width:3;\" /><line x1=\"110\" y1=\"0\" x2=\"110\" y2=\"20\" style=\"stroke:#ffde80;stroke-width:3;\" /><line x1=\"111\" y1=\"0\" x2=\"111\" y2=\"20\" style=\"stroke:#ffde7f;stroke-width:3;\" /><line x1=\"112\" y1=\"0\" x2=\"112\" y2=\"20\" style=\"stroke:#ffdd7f;stroke-width:3;\" /><line x1=\"113\" y1=\"0\" x2=\"113\" y2=\"20\" style=\"stroke:#ffdd7e;stroke-width:3;\" /><line x1=\"114\" y1=\"0\" x2=\"114\" y2=\"20\" style=\"stroke:#ffdd7d;stroke-width:3;\" /><line x1=\"115\" y1=\"0\" x2=\"115\" y2=\"20\" style=\"stroke:#ffdc7d;stroke-width:3;\" /><line x1=\"116\" y1=\"0\" x2=\"116\" y2=\"20\" style=\"stroke:#ffdc7c;stroke-width:3;\" /><line x1=\"117\" y1=\"0\" x2=\"117\" y2=\"20\" style=\"stroke:#ffdc7b;stroke-width:3;\" /><line x1=\"118\" y1=\"0\" x2=\"118\" y2=\"20\" style=\"stroke:#ffdc7b;stroke-width:3;\" /><line x1=\"119\" y1=\"0\" x2=\"119\" y2=\"20\" style=\"stroke:#ffdb7a;stroke-width:3;\" /><line x1=\"120\" y1=\"0\" x2=\"120\" y2=\"20\" style=\"stroke:#ffdb79;stroke-width:3;\" /><line x1=\"121\" y1=\"0\" x2=\"121\" y2=\"20\" style=\"stroke:#ffdb78;stroke-width:3;\" /><line x1=\"122\" y1=\"0\" x2=\"122\" y2=\"20\" style=\"stroke:#ffda78;stroke-width:3;\" /><line x1=\"123\" y1=\"0\" x2=\"123\" y2=\"20\" style=\"stroke:#ffda77;stroke-width:3;\" /><line x1=\"124\" y1=\"0\" x2=\"124\" y2=\"20\" style=\"stroke:#ffda76;stroke-width:3;\" /><line x1=\"125\" y1=\"0\" x2=\"125\" y2=\"20\" style=\"stroke:#fed976;stroke-width:3;\" /><line x1=\"126\" y1=\"0\" x2=\"126\" y2=\"20\" style=\"stroke:#fed975;stroke-width:3;\" /><line x1=\"127\" y1=\"0\" x2=\"127\" y2=\"20\" style=\"stroke:#fed874;stroke-width:3;\" /><line x1=\"128\" y1=\"0\" x2=\"128\" y2=\"20\" style=\"stroke:#fed774;stroke-width:3;\" /><line x1=\"129\" y1=\"0\" x2=\"129\" y2=\"20\" style=\"stroke:#fed773;stroke-width:3;\" /><line x1=\"130\" y1=\"0\" x2=\"130\" y2=\"20\" style=\"stroke:#fed672;stroke-width:3;\" /><line x1=\"131\" y1=\"0\" x2=\"131\" y2=\"20\" style=\"stroke:#fed572;stroke-width:3;\" /><line x1=\"132\" y1=\"0\" x2=\"132\" y2=\"20\" style=\"stroke:#fed571;stroke-width:3;\" /><line x1=\"133\" y1=\"0\" x2=\"133\" y2=\"20\" style=\"stroke:#fed470;stroke-width:3;\" /><line x1=\"134\" y1=\"0\" x2=\"134\" y2=\"20\" style=\"stroke:#fed470;stroke-width:3;\" /><line x1=\"135\" y1=\"0\" x2=\"135\" y2=\"20\" style=\"stroke:#fed36f;stroke-width:3;\" /><line x1=\"136\" y1=\"0\" x2=\"136\" y2=\"20\" style=\"stroke:#fed26e;stroke-width:3;\" /><line x1=\"137\" y1=\"0\" x2=\"137\" y2=\"20\" style=\"stroke:#fed26e;stroke-width:3;\" /><line x1=\"138\" y1=\"0\" x2=\"138\" y2=\"20\" style=\"stroke:#fed16d;stroke-width:3;\" /><line x1=\"139\" y1=\"0\" x2=\"139\" y2=\"20\" style=\"stroke:#fed06c;stroke-width:3;\" /><line x1=\"140\" y1=\"0\" x2=\"140\" y2=\"20\" style=\"stroke:#fed06c;stroke-width:3;\" /><line x1=\"141\" y1=\"0\" x2=\"141\" y2=\"20\" style=\"stroke:#fecf6b;stroke-width:3;\" /><line x1=\"142\" y1=\"0\" x2=\"142\" y2=\"20\" style=\"stroke:#fecf6a;stroke-width:3;\" /><line x1=\"143\" y1=\"0\" x2=\"143\" y2=\"20\" style=\"stroke:#fece6a;stroke-width:3;\" /><line x1=\"144\" y1=\"0\" x2=\"144\" y2=\"20\" style=\"stroke:#fecd69;stroke-width:3;\" /><line x1=\"145\" y1=\"0\" x2=\"145\" y2=\"20\" style=\"stroke:#fecd68;stroke-width:3;\" /><line x1=\"146\" y1=\"0\" x2=\"146\" y2=\"20\" style=\"stroke:#fecc68;stroke-width:3;\" /><line x1=\"147\" y1=\"0\" x2=\"147\" y2=\"20\" style=\"stroke:#fecb67;stroke-width:3;\" /><line x1=\"148\" y1=\"0\" x2=\"148\" y2=\"20\" style=\"stroke:#fecb66;stroke-width:3;\" /><line x1=\"149\" y1=\"0\" x2=\"149\" y2=\"20\" style=\"stroke:#feca66;stroke-width:3;\" /><line x1=\"150\" y1=\"0\" x2=\"150\" y2=\"20\" style=\"stroke:#feca65;stroke-width:3;\" /><line x1=\"151\" y1=\"0\" x2=\"151\" y2=\"20\" style=\"stroke:#fec964;stroke-width:3;\" /><line x1=\"152\" y1=\"0\" x2=\"152\" y2=\"20\" style=\"stroke:#fec864;stroke-width:3;\" /><line x1=\"153\" y1=\"0\" x2=\"153\" y2=\"20\" style=\"stroke:#fec863;stroke-width:3;\" /><line x1=\"154\" y1=\"0\" x2=\"154\" y2=\"20\" style=\"stroke:#fec762;stroke-width:3;\" /><line x1=\"155\" y1=\"0\" x2=\"155\" y2=\"20\" style=\"stroke:#fec662;stroke-width:3;\" /><line x1=\"156\" y1=\"0\" x2=\"156\" y2=\"20\" style=\"stroke:#fec661;stroke-width:3;\" /><line x1=\"157\" y1=\"0\" x2=\"157\" y2=\"20\" style=\"stroke:#fec560;stroke-width:3;\" /><line x1=\"158\" y1=\"0\" x2=\"158\" y2=\"20\" style=\"stroke:#fec45f;stroke-width:3;\" /><line x1=\"159\" y1=\"0\" x2=\"159\" y2=\"20\" style=\"stroke:#fec45f;stroke-width:3;\" /><line x1=\"160\" y1=\"0\" x2=\"160\" y2=\"20\" style=\"stroke:#fec35e;stroke-width:3;\" /><line x1=\"161\" y1=\"0\" x2=\"161\" y2=\"20\" style=\"stroke:#fec35d;stroke-width:3;\" /><line x1=\"162\" y1=\"0\" x2=\"162\" y2=\"20\" style=\"stroke:#fec25d;stroke-width:3;\" /><line x1=\"163\" y1=\"0\" x2=\"163\" y2=\"20\" style=\"stroke:#fec15c;stroke-width:3;\" /><line x1=\"164\" y1=\"0\" x2=\"164\" y2=\"20\" style=\"stroke:#fec15b;stroke-width:3;\" /><line x1=\"165\" y1=\"0\" x2=\"165\" y2=\"20\" style=\"stroke:#fec05b;stroke-width:3;\" /><line x1=\"166\" y1=\"0\" x2=\"166\" y2=\"20\" style=\"stroke:#febf5a;stroke-width:3;\" /><line x1=\"167\" y1=\"0\" x2=\"167\" y2=\"20\" style=\"stroke:#febf59;stroke-width:3;\" /><line x1=\"168\" y1=\"0\" x2=\"168\" y2=\"20\" style=\"stroke:#febe59;stroke-width:3;\" /><line x1=\"169\" y1=\"0\" x2=\"169\" y2=\"20\" style=\"stroke:#febe58;stroke-width:3;\" /><line x1=\"170\" y1=\"0\" x2=\"170\" y2=\"20\" style=\"stroke:#febd57;stroke-width:3;\" /><line x1=\"171\" y1=\"0\" x2=\"171\" y2=\"20\" style=\"stroke:#febc57;stroke-width:3;\" /><line x1=\"172\" y1=\"0\" x2=\"172\" y2=\"20\" style=\"stroke:#febc56;stroke-width:3;\" /><line x1=\"173\" y1=\"0\" x2=\"173\" y2=\"20\" style=\"stroke:#febb55;stroke-width:3;\" /><line x1=\"174\" y1=\"0\" x2=\"174\" y2=\"20\" style=\"stroke:#feba55;stroke-width:3;\" /><line x1=\"175\" y1=\"0\" x2=\"175\" y2=\"20\" style=\"stroke:#feba54;stroke-width:3;\" /><line x1=\"176\" y1=\"0\" x2=\"176\" y2=\"20\" style=\"stroke:#feb953;stroke-width:3;\" /><line x1=\"177\" y1=\"0\" x2=\"177\" y2=\"20\" style=\"stroke:#feb953;stroke-width:3;\" /><line x1=\"178\" y1=\"0\" x2=\"178\" y2=\"20\" style=\"stroke:#feb852;stroke-width:3;\" /><line x1=\"179\" y1=\"0\" x2=\"179\" y2=\"20\" style=\"stroke:#feb751;stroke-width:3;\" /><line x1=\"180\" y1=\"0\" x2=\"180\" y2=\"20\" style=\"stroke:#feb751;stroke-width:3;\" /><line x1=\"181\" y1=\"0\" x2=\"181\" y2=\"20\" style=\"stroke:#feb650;stroke-width:3;\" /><line x1=\"182\" y1=\"0\" x2=\"182\" y2=\"20\" style=\"stroke:#feb54f;stroke-width:3;\" /><line x1=\"183\" y1=\"0\" x2=\"183\" y2=\"20\" style=\"stroke:#feb54f;stroke-width:3;\" /><line x1=\"184\" y1=\"0\" x2=\"184\" y2=\"20\" style=\"stroke:#feb44e;stroke-width:3;\" /><line x1=\"185\" y1=\"0\" x2=\"185\" y2=\"20\" style=\"stroke:#feb44d;stroke-width:3;\" /><line x1=\"186\" y1=\"0\" x2=\"186\" y2=\"20\" style=\"stroke:#feb34d;stroke-width:3;\" /><line x1=\"187\" y1=\"0\" x2=\"187\" y2=\"20\" style=\"stroke:#feb24c;stroke-width:3;\" /><line x1=\"188\" y1=\"0\" x2=\"188\" y2=\"20\" style=\"stroke:#feb24c;stroke-width:3;\" /><line x1=\"189\" y1=\"0\" x2=\"189\" y2=\"20\" style=\"stroke:#feb14b;stroke-width:3;\" /><line x1=\"190\" y1=\"0\" x2=\"190\" y2=\"20\" style=\"stroke:#feb04b;stroke-width:3;\" /><line x1=\"191\" y1=\"0\" x2=\"191\" y2=\"20\" style=\"stroke:#feb04b;stroke-width:3;\" /><line x1=\"192\" y1=\"0\" x2=\"192\" y2=\"20\" style=\"stroke:#feaf4b;stroke-width:3;\" /><line x1=\"193\" y1=\"0\" x2=\"193\" y2=\"20\" style=\"stroke:#feaf4a;stroke-width:3;\" /><line x1=\"194\" y1=\"0\" x2=\"194\" y2=\"20\" style=\"stroke:#feae4a;stroke-width:3;\" /><line x1=\"195\" y1=\"0\" x2=\"195\" y2=\"20\" style=\"stroke:#feae4a;stroke-width:3;\" /><line x1=\"196\" y1=\"0\" x2=\"196\" y2=\"20\" style=\"stroke:#fead4a;stroke-width:3;\" /><line x1=\"197\" y1=\"0\" x2=\"197\" y2=\"20\" style=\"stroke:#feac49;stroke-width:3;\" /><line x1=\"198\" y1=\"0\" x2=\"198\" y2=\"20\" style=\"stroke:#feac49;stroke-width:3;\" /><line x1=\"199\" y1=\"0\" x2=\"199\" y2=\"20\" style=\"stroke:#feab49;stroke-width:3;\" /><line x1=\"200\" y1=\"0\" x2=\"200\" y2=\"20\" style=\"stroke:#feab48;stroke-width:3;\" /><line x1=\"201\" y1=\"0\" x2=\"201\" y2=\"20\" style=\"stroke:#feaa48;stroke-width:3;\" /><line x1=\"202\" y1=\"0\" x2=\"202\" y2=\"20\" style=\"stroke:#fea948;stroke-width:3;\" /><line x1=\"203\" y1=\"0\" x2=\"203\" y2=\"20\" style=\"stroke:#fea948;stroke-width:3;\" /><line x1=\"204\" y1=\"0\" x2=\"204\" y2=\"20\" style=\"stroke:#fea847;stroke-width:3;\" /><line x1=\"205\" y1=\"0\" x2=\"205\" y2=\"20\" style=\"stroke:#fea847;stroke-width:3;\" /><line x1=\"206\" y1=\"0\" x2=\"206\" y2=\"20\" style=\"stroke:#fea747;stroke-width:3;\" /><line x1=\"207\" y1=\"0\" x2=\"207\" y2=\"20\" style=\"stroke:#fea647;stroke-width:3;\" /><line x1=\"208\" y1=\"0\" x2=\"208\" y2=\"20\" style=\"stroke:#fea646;stroke-width:3;\" /><line x1=\"209\" y1=\"0\" x2=\"209\" y2=\"20\" style=\"stroke:#fea546;stroke-width:3;\" /><line x1=\"210\" y1=\"0\" x2=\"210\" y2=\"20\" style=\"stroke:#fea546;stroke-width:3;\" /><line x1=\"211\" y1=\"0\" x2=\"211\" y2=\"20\" style=\"stroke:#fea446;stroke-width:3;\" /><line x1=\"212\" y1=\"0\" x2=\"212\" y2=\"20\" style=\"stroke:#fea345;stroke-width:3;\" /><line x1=\"213\" y1=\"0\" x2=\"213\" y2=\"20\" style=\"stroke:#fea345;stroke-width:3;\" /><line x1=\"214\" y1=\"0\" x2=\"214\" y2=\"20\" style=\"stroke:#fea245;stroke-width:3;\" /><line x1=\"215\" y1=\"0\" x2=\"215\" y2=\"20\" style=\"stroke:#fea245;stroke-width:3;\" /><line x1=\"216\" y1=\"0\" x2=\"216\" y2=\"20\" style=\"stroke:#fea144;stroke-width:3;\" /><line x1=\"217\" y1=\"0\" x2=\"217\" y2=\"20\" style=\"stroke:#fea044;stroke-width:3;\" /><line x1=\"218\" y1=\"0\" x2=\"218\" y2=\"20\" style=\"stroke:#fea044;stroke-width:3;\" /><line x1=\"219\" y1=\"0\" x2=\"219\" y2=\"20\" style=\"stroke:#fe9f44;stroke-width:3;\" /><line x1=\"220\" y1=\"0\" x2=\"220\" y2=\"20\" style=\"stroke:#fe9f43;stroke-width:3;\" /><line x1=\"221\" y1=\"0\" x2=\"221\" y2=\"20\" style=\"stroke:#fe9e43;stroke-width:3;\" /><line x1=\"222\" y1=\"0\" x2=\"222\" y2=\"20\" style=\"stroke:#fe9d43;stroke-width:3;\" /><line x1=\"223\" y1=\"0\" x2=\"223\" y2=\"20\" style=\"stroke:#fe9d43;stroke-width:3;\" /><line x1=\"224\" y1=\"0\" x2=\"224\" y2=\"20\" style=\"stroke:#fe9c42;stroke-width:3;\" /><line x1=\"225\" y1=\"0\" x2=\"225\" y2=\"20\" style=\"stroke:#fe9c42;stroke-width:3;\" /><line x1=\"226\" y1=\"0\" x2=\"226\" y2=\"20\" style=\"stroke:#fe9b42;stroke-width:3;\" /><line x1=\"227\" y1=\"0\" x2=\"227\" y2=\"20\" style=\"stroke:#fe9a42;stroke-width:3;\" /><line x1=\"228\" y1=\"0\" x2=\"228\" y2=\"20\" style=\"stroke:#fe9a41;stroke-width:3;\" /><line x1=\"229\" y1=\"0\" x2=\"229\" y2=\"20\" style=\"stroke:#fe9941;stroke-width:3;\" /><line x1=\"230\" y1=\"0\" x2=\"230\" y2=\"20\" style=\"stroke:#fe9941;stroke-width:3;\" /><line x1=\"231\" y1=\"0\" x2=\"231\" y2=\"20\" style=\"stroke:#fe9840;stroke-width:3;\" /><line x1=\"232\" y1=\"0\" x2=\"232\" y2=\"20\" style=\"stroke:#fe9740;stroke-width:3;\" /><line x1=\"233\" y1=\"0\" x2=\"233\" y2=\"20\" style=\"stroke:#fe9740;stroke-width:3;\" /><line x1=\"234\" y1=\"0\" x2=\"234\" y2=\"20\" style=\"stroke:#fe9640;stroke-width:3;\" /><line x1=\"235\" y1=\"0\" x2=\"235\" y2=\"20\" style=\"stroke:#fe963f;stroke-width:3;\" /><line x1=\"236\" y1=\"0\" x2=\"236\" y2=\"20\" style=\"stroke:#fe953f;stroke-width:3;\" /><line x1=\"237\" y1=\"0\" x2=\"237\" y2=\"20\" style=\"stroke:#fe943f;stroke-width:3;\" /><line x1=\"238\" y1=\"0\" x2=\"238\" y2=\"20\" style=\"stroke:#fe943f;stroke-width:3;\" /><line x1=\"239\" y1=\"0\" x2=\"239\" y2=\"20\" style=\"stroke:#fe933e;stroke-width:3;\" /><line x1=\"240\" y1=\"0\" x2=\"240\" y2=\"20\" style=\"stroke:#fe933e;stroke-width:3;\" /><line x1=\"241\" y1=\"0\" x2=\"241\" y2=\"20\" style=\"stroke:#fe923e;stroke-width:3;\" /><line x1=\"242\" y1=\"0\" x2=\"242\" y2=\"20\" style=\"stroke:#fe923e;stroke-width:3;\" /><line x1=\"243\" y1=\"0\" x2=\"243\" y2=\"20\" style=\"stroke:#fe913d;stroke-width:3;\" /><line x1=\"244\" y1=\"0\" x2=\"244\" y2=\"20\" style=\"stroke:#fe903d;stroke-width:3;\" /><line x1=\"245\" y1=\"0\" x2=\"245\" y2=\"20\" style=\"stroke:#fe903d;stroke-width:3;\" /><line x1=\"246\" y1=\"0\" x2=\"246\" y2=\"20\" style=\"stroke:#fe8f3d;stroke-width:3;\" /><line x1=\"247\" y1=\"0\" x2=\"247\" y2=\"20\" style=\"stroke:#fe8f3c;stroke-width:3;\" /><line x1=\"248\" y1=\"0\" x2=\"248\" y2=\"20\" style=\"stroke:#fe8e3c;stroke-width:3;\" /><line x1=\"249\" y1=\"0\" x2=\"249\" y2=\"20\" style=\"stroke:#fe8d3c;stroke-width:3;\" /><line x1=\"250\" y1=\"0\" x2=\"250\" y2=\"20\" style=\"stroke:#fd8d3c;stroke-width:3;\" /><line x1=\"251\" y1=\"0\" x2=\"251\" y2=\"20\" style=\"stroke:#fd8c3b;stroke-width:3;\" /><line x1=\"252\" y1=\"0\" x2=\"252\" y2=\"20\" style=\"stroke:#fd8b3b;stroke-width:3;\" /><line x1=\"253\" y1=\"0\" x2=\"253\" y2=\"20\" style=\"stroke:#fd8a3b;stroke-width:3;\" /><line x1=\"254\" y1=\"0\" x2=\"254\" y2=\"20\" style=\"stroke:#fd883a;stroke-width:3;\" /><line x1=\"255\" y1=\"0\" x2=\"255\" y2=\"20\" style=\"stroke:#fd873a;stroke-width:3;\" /><line x1=\"256\" y1=\"0\" x2=\"256\" y2=\"20\" style=\"stroke:#fd863a;stroke-width:3;\" /><line x1=\"257\" y1=\"0\" x2=\"257\" y2=\"20\" style=\"stroke:#fd853a;stroke-width:3;\" /><line x1=\"258\" y1=\"0\" x2=\"258\" y2=\"20\" style=\"stroke:#fd8439;stroke-width:3;\" /><line x1=\"259\" y1=\"0\" x2=\"259\" y2=\"20\" style=\"stroke:#fd8339;stroke-width:3;\" /><line x1=\"260\" y1=\"0\" x2=\"260\" y2=\"20\" style=\"stroke:#fd8239;stroke-width:3;\" /><line x1=\"261\" y1=\"0\" x2=\"261\" y2=\"20\" style=\"stroke:#fd8138;stroke-width:3;\" /><line x1=\"262\" y1=\"0\" x2=\"262\" y2=\"20\" style=\"stroke:#fd8038;stroke-width:3;\" /><line x1=\"263\" y1=\"0\" x2=\"263\" y2=\"20\" style=\"stroke:#fd7f38;stroke-width:3;\" /><line x1=\"264\" y1=\"0\" x2=\"264\" y2=\"20\" style=\"stroke:#fd7e38;stroke-width:3;\" /><line x1=\"265\" y1=\"0\" x2=\"265\" y2=\"20\" style=\"stroke:#fd7d37;stroke-width:3;\" /><line x1=\"266\" y1=\"0\" x2=\"266\" y2=\"20\" style=\"stroke:#fd7c37;stroke-width:3;\" /><line x1=\"267\" y1=\"0\" x2=\"267\" y2=\"20\" style=\"stroke:#fd7b37;stroke-width:3;\" /><line x1=\"268\" y1=\"0\" x2=\"268\" y2=\"20\" style=\"stroke:#fd7a36;stroke-width:3;\" /><line x1=\"269\" y1=\"0\" x2=\"269\" y2=\"20\" style=\"stroke:#fd7936;stroke-width:3;\" /><line x1=\"270\" y1=\"0\" x2=\"270\" y2=\"20\" style=\"stroke:#fd7836;stroke-width:3;\" /><line x1=\"271\" y1=\"0\" x2=\"271\" y2=\"20\" style=\"stroke:#fd7736;stroke-width:3;\" /><line x1=\"272\" y1=\"0\" x2=\"272\" y2=\"20\" style=\"stroke:#fd7635;stroke-width:3;\" /><line x1=\"273\" y1=\"0\" x2=\"273\" y2=\"20\" style=\"stroke:#fd7535;stroke-width:3;\" /><line x1=\"274\" y1=\"0\" x2=\"274\" y2=\"20\" style=\"stroke:#fd7435;stroke-width:3;\" /><line x1=\"275\" y1=\"0\" x2=\"275\" y2=\"20\" style=\"stroke:#fd7334;stroke-width:3;\" /><line x1=\"276\" y1=\"0\" x2=\"276\" y2=\"20\" style=\"stroke:#fd7234;stroke-width:3;\" /><line x1=\"277\" y1=\"0\" x2=\"277\" y2=\"20\" style=\"stroke:#fd7134;stroke-width:3;\" /><line x1=\"278\" y1=\"0\" x2=\"278\" y2=\"20\" style=\"stroke:#fd7033;stroke-width:3;\" /><line x1=\"279\" y1=\"0\" x2=\"279\" y2=\"20\" style=\"stroke:#fd6f33;stroke-width:3;\" /><line x1=\"280\" y1=\"0\" x2=\"280\" y2=\"20\" style=\"stroke:#fd6e33;stroke-width:3;\" /><line x1=\"281\" y1=\"0\" x2=\"281\" y2=\"20\" style=\"stroke:#fd6d33;stroke-width:3;\" /><line x1=\"282\" y1=\"0\" x2=\"282\" y2=\"20\" style=\"stroke:#fd6c32;stroke-width:3;\" /><line x1=\"283\" y1=\"0\" x2=\"283\" y2=\"20\" style=\"stroke:#fd6b32;stroke-width:3;\" /><line x1=\"284\" y1=\"0\" x2=\"284\" y2=\"20\" style=\"stroke:#fd6a32;stroke-width:3;\" /><line x1=\"285\" y1=\"0\" x2=\"285\" y2=\"20\" style=\"stroke:#fd6931;stroke-width:3;\" /><line x1=\"286\" y1=\"0\" x2=\"286\" y2=\"20\" style=\"stroke:#fd6831;stroke-width:3;\" /><line x1=\"287\" y1=\"0\" x2=\"287\" y2=\"20\" style=\"stroke:#fd6731;stroke-width:3;\" /><line x1=\"288\" y1=\"0\" x2=\"288\" y2=\"20\" style=\"stroke:#fd6631;stroke-width:3;\" /><line x1=\"289\" y1=\"0\" x2=\"289\" y2=\"20\" style=\"stroke:#fd6530;stroke-width:3;\" /><line x1=\"290\" y1=\"0\" x2=\"290\" y2=\"20\" style=\"stroke:#fd6430;stroke-width:3;\" /><line x1=\"291\" y1=\"0\" x2=\"291\" y2=\"20\" style=\"stroke:#fd6330;stroke-width:3;\" /><line x1=\"292\" y1=\"0\" x2=\"292\" y2=\"20\" style=\"stroke:#fd622f;stroke-width:3;\" /><line x1=\"293\" y1=\"0\" x2=\"293\" y2=\"20\" style=\"stroke:#fd612f;stroke-width:3;\" /><line x1=\"294\" y1=\"0\" x2=\"294\" y2=\"20\" style=\"stroke:#fd602f;stroke-width:3;\" /><line x1=\"295\" y1=\"0\" x2=\"295\" y2=\"20\" style=\"stroke:#fd5f2f;stroke-width:3;\" /><line x1=\"296\" y1=\"0\" x2=\"296\" y2=\"20\" style=\"stroke:#fd5e2e;stroke-width:3;\" /><line x1=\"297\" y1=\"0\" x2=\"297\" y2=\"20\" style=\"stroke:#fd5d2e;stroke-width:3;\" /><line x1=\"298\" y1=\"0\" x2=\"298\" y2=\"20\" style=\"stroke:#fd5c2e;stroke-width:3;\" /><line x1=\"299\" y1=\"0\" x2=\"299\" y2=\"20\" style=\"stroke:#fd5b2d;stroke-width:3;\" /><line x1=\"300\" y1=\"0\" x2=\"300\" y2=\"20\" style=\"stroke:#fd5a2d;stroke-width:3;\" /><line x1=\"301\" y1=\"0\" x2=\"301\" y2=\"20\" style=\"stroke:#fd592d;stroke-width:3;\" /><line x1=\"302\" y1=\"0\" x2=\"302\" y2=\"20\" style=\"stroke:#fd582d;stroke-width:3;\" /><line x1=\"303\" y1=\"0\" x2=\"303\" y2=\"20\" style=\"stroke:#fd572c;stroke-width:3;\" /><line x1=\"304\" y1=\"0\" x2=\"304\" y2=\"20\" style=\"stroke:#fd562c;stroke-width:3;\" /><line x1=\"305\" y1=\"0\" x2=\"305\" y2=\"20\" style=\"stroke:#fd552c;stroke-width:3;\" /><line x1=\"306\" y1=\"0\" x2=\"306\" y2=\"20\" style=\"stroke:#fd542b;stroke-width:3;\" /><line x1=\"307\" y1=\"0\" x2=\"307\" y2=\"20\" style=\"stroke:#fd532b;stroke-width:3;\" /><line x1=\"308\" y1=\"0\" x2=\"308\" y2=\"20\" style=\"stroke:#fd522b;stroke-width:3;\" /><line x1=\"309\" y1=\"0\" x2=\"309\" y2=\"20\" style=\"stroke:#fd512a;stroke-width:3;\" /><line x1=\"310\" y1=\"0\" x2=\"310\" y2=\"20\" style=\"stroke:#fd502a;stroke-width:3;\" /><line x1=\"311\" y1=\"0\" x2=\"311\" y2=\"20\" style=\"stroke:#fd4f2a;stroke-width:3;\" /><line x1=\"312\" y1=\"0\" x2=\"312\" y2=\"20\" style=\"stroke:#fc4e2a;stroke-width:3;\" /><line x1=\"313\" y1=\"0\" x2=\"313\" y2=\"20\" style=\"stroke:#fc4d29;stroke-width:3;\" /><line x1=\"314\" y1=\"0\" x2=\"314\" y2=\"20\" style=\"stroke:#fc4c29;stroke-width:3;\" /><line x1=\"315\" y1=\"0\" x2=\"315\" y2=\"20\" style=\"stroke:#fb4b29;stroke-width:3;\" /><line x1=\"316\" y1=\"0\" x2=\"316\" y2=\"20\" style=\"stroke:#fb4a29;stroke-width:3;\" /><line x1=\"317\" y1=\"0\" x2=\"317\" y2=\"20\" style=\"stroke:#fa4a29;stroke-width:3;\" /><line x1=\"318\" y1=\"0\" x2=\"318\" y2=\"20\" style=\"stroke:#fa4928;stroke-width:3;\" /><line x1=\"319\" y1=\"0\" x2=\"319\" y2=\"20\" style=\"stroke:#fa4828;stroke-width:3;\" /><line x1=\"320\" y1=\"0\" x2=\"320\" y2=\"20\" style=\"stroke:#f94728;stroke-width:3;\" /><line x1=\"321\" y1=\"0\" x2=\"321\" y2=\"20\" style=\"stroke:#f94628;stroke-width:3;\" /><line x1=\"322\" y1=\"0\" x2=\"322\" y2=\"20\" style=\"stroke:#f84527;stroke-width:3;\" /><line x1=\"323\" y1=\"0\" x2=\"323\" y2=\"20\" style=\"stroke:#f84427;stroke-width:3;\" /><line x1=\"324\" y1=\"0\" x2=\"324\" y2=\"20\" style=\"stroke:#f84427;stroke-width:3;\" /><line x1=\"325\" y1=\"0\" x2=\"325\" y2=\"20\" style=\"stroke:#f74327;stroke-width:3;\" /><line x1=\"326\" y1=\"0\" x2=\"326\" y2=\"20\" style=\"stroke:#f74226;stroke-width:3;\" /><line x1=\"327\" y1=\"0\" x2=\"327\" y2=\"20\" style=\"stroke:#f64126;stroke-width:3;\" /><line x1=\"328\" y1=\"0\" x2=\"328\" y2=\"20\" style=\"stroke:#f64026;stroke-width:3;\" /><line x1=\"329\" y1=\"0\" x2=\"329\" y2=\"20\" style=\"stroke:#f63f26;stroke-width:3;\" /><line x1=\"330\" y1=\"0\" x2=\"330\" y2=\"20\" style=\"stroke:#f53f26;stroke-width:3;\" /><line x1=\"331\" y1=\"0\" x2=\"331\" y2=\"20\" style=\"stroke:#f53e25;stroke-width:3;\" /><line x1=\"332\" y1=\"0\" x2=\"332\" y2=\"20\" style=\"stroke:#f43d25;stroke-width:3;\" /><line x1=\"333\" y1=\"0\" x2=\"333\" y2=\"20\" style=\"stroke:#f43c25;stroke-width:3;\" /><line x1=\"334\" y1=\"0\" x2=\"334\" y2=\"20\" style=\"stroke:#f43b25;stroke-width:3;\" /><line x1=\"335\" y1=\"0\" x2=\"335\" y2=\"20\" style=\"stroke:#f33a24;stroke-width:3;\" /><line x1=\"336\" y1=\"0\" x2=\"336\" y2=\"20\" style=\"stroke:#f33a24;stroke-width:3;\" /><line x1=\"337\" y1=\"0\" x2=\"337\" y2=\"20\" style=\"stroke:#f23924;stroke-width:3;\" /><line x1=\"338\" y1=\"0\" x2=\"338\" y2=\"20\" style=\"stroke:#f23824;stroke-width:3;\" /><line x1=\"339\" y1=\"0\" x2=\"339\" y2=\"20\" style=\"stroke:#f23724;stroke-width:3;\" /><line x1=\"340\" y1=\"0\" x2=\"340\" y2=\"20\" style=\"stroke:#f13623;stroke-width:3;\" /><line x1=\"341\" y1=\"0\" x2=\"341\" y2=\"20\" style=\"stroke:#f13523;stroke-width:3;\" /><line x1=\"342\" y1=\"0\" x2=\"342\" y2=\"20\" style=\"stroke:#f03523;stroke-width:3;\" /><line x1=\"343\" y1=\"0\" x2=\"343\" y2=\"20\" style=\"stroke:#f03423;stroke-width:3;\" /><line x1=\"344\" y1=\"0\" x2=\"344\" y2=\"20\" style=\"stroke:#f03322;stroke-width:3;\" /><line x1=\"345\" y1=\"0\" x2=\"345\" y2=\"20\" style=\"stroke:#ef3222;stroke-width:3;\" /><line x1=\"346\" y1=\"0\" x2=\"346\" y2=\"20\" style=\"stroke:#ef3122;stroke-width:3;\" /><line x1=\"347\" y1=\"0\" x2=\"347\" y2=\"20\" style=\"stroke:#ee3022;stroke-width:3;\" /><line x1=\"348\" y1=\"0\" x2=\"348\" y2=\"20\" style=\"stroke:#ee3022;stroke-width:3;\" /><line x1=\"349\" y1=\"0\" x2=\"349\" y2=\"20\" style=\"stroke:#ee2f21;stroke-width:3;\" /><line x1=\"350\" y1=\"0\" x2=\"350\" y2=\"20\" style=\"stroke:#ed2e21;stroke-width:3;\" /><line x1=\"351\" y1=\"0\" x2=\"351\" y2=\"20\" style=\"stroke:#ed2d21;stroke-width:3;\" /><line x1=\"352\" y1=\"0\" x2=\"352\" y2=\"20\" style=\"stroke:#ec2c21;stroke-width:3;\" /><line x1=\"353\" y1=\"0\" x2=\"353\" y2=\"20\" style=\"stroke:#ec2b20;stroke-width:3;\" /><line x1=\"354\" y1=\"0\" x2=\"354\" y2=\"20\" style=\"stroke:#ec2b20;stroke-width:3;\" /><line x1=\"355\" y1=\"0\" x2=\"355\" y2=\"20\" style=\"stroke:#eb2a20;stroke-width:3;\" /><line x1=\"356\" y1=\"0\" x2=\"356\" y2=\"20\" style=\"stroke:#eb2920;stroke-width:3;\" /><line x1=\"357\" y1=\"0\" x2=\"357\" y2=\"20\" style=\"stroke:#ea281f;stroke-width:3;\" /><line x1=\"358\" y1=\"0\" x2=\"358\" y2=\"20\" style=\"stroke:#ea271f;stroke-width:3;\" /><line x1=\"359\" y1=\"0\" x2=\"359\" y2=\"20\" style=\"stroke:#ea261f;stroke-width:3;\" /><line x1=\"360\" y1=\"0\" x2=\"360\" y2=\"20\" style=\"stroke:#e9261f;stroke-width:3;\" /><line x1=\"361\" y1=\"0\" x2=\"361\" y2=\"20\" style=\"stroke:#e9251f;stroke-width:3;\" /><line x1=\"362\" y1=\"0\" x2=\"362\" y2=\"20\" style=\"stroke:#e8241e;stroke-width:3;\" /><line x1=\"363\" y1=\"0\" x2=\"363\" y2=\"20\" style=\"stroke:#e8231e;stroke-width:3;\" /><line x1=\"364\" y1=\"0\" x2=\"364\" y2=\"20\" style=\"stroke:#e8221e;stroke-width:3;\" /><line x1=\"365\" y1=\"0\" x2=\"365\" y2=\"20\" style=\"stroke:#e7211e;stroke-width:3;\" /><line x1=\"366\" y1=\"0\" x2=\"366\" y2=\"20\" style=\"stroke:#e7211d;stroke-width:3;\" /><line x1=\"367\" y1=\"0\" x2=\"367\" y2=\"20\" style=\"stroke:#e6201d;stroke-width:3;\" /><line x1=\"368\" y1=\"0\" x2=\"368\" y2=\"20\" style=\"stroke:#e61f1d;stroke-width:3;\" /><line x1=\"369\" y1=\"0\" x2=\"369\" y2=\"20\" style=\"stroke:#e61e1d;stroke-width:3;\" /><line x1=\"370\" y1=\"0\" x2=\"370\" y2=\"20\" style=\"stroke:#e51d1d;stroke-width:3;\" /><line x1=\"371\" y1=\"0\" x2=\"371\" y2=\"20\" style=\"stroke:#e51c1c;stroke-width:3;\" /><line x1=\"372\" y1=\"0\" x2=\"372\" y2=\"20\" style=\"stroke:#e41b1c;stroke-width:3;\" /><line x1=\"373\" y1=\"0\" x2=\"373\" y2=\"20\" style=\"stroke:#e41b1c;stroke-width:3;\" /><line x1=\"374\" y1=\"0\" x2=\"374\" y2=\"20\" style=\"stroke:#e31a1c;stroke-width:3;\" /><line x1=\"375\" y1=\"0\" x2=\"375\" y2=\"20\" style=\"stroke:#e3191c;stroke-width:3;\" /><line x1=\"376\" y1=\"0\" x2=\"376\" y2=\"20\" style=\"stroke:#e2191c;stroke-width:3;\" /><line x1=\"377\" y1=\"0\" x2=\"377\" y2=\"20\" style=\"stroke:#e2181c;stroke-width:3;\" /><line x1=\"378\" y1=\"0\" x2=\"378\" y2=\"20\" style=\"stroke:#e1181c;stroke-width:3;\" /><line x1=\"379\" y1=\"0\" x2=\"379\" y2=\"20\" style=\"stroke:#e0181c;stroke-width:3;\" /><line x1=\"380\" y1=\"0\" x2=\"380\" y2=\"20\" style=\"stroke:#e0171d;stroke-width:3;\" /><line x1=\"381\" y1=\"0\" x2=\"381\" y2=\"20\" style=\"stroke:#df171d;stroke-width:3;\" /><line x1=\"382\" y1=\"0\" x2=\"382\" y2=\"20\" style=\"stroke:#df161d;stroke-width:3;\" /><line x1=\"383\" y1=\"0\" x2=\"383\" y2=\"20\" style=\"stroke:#de161d;stroke-width:3;\" /><line x1=\"384\" y1=\"0\" x2=\"384\" y2=\"20\" style=\"stroke:#dd161d;stroke-width:3;\" /><line x1=\"385\" y1=\"0\" x2=\"385\" y2=\"20\" style=\"stroke:#dd151d;stroke-width:3;\" /><line x1=\"386\" y1=\"0\" x2=\"386\" y2=\"20\" style=\"stroke:#dc151e;stroke-width:3;\" /><line x1=\"387\" y1=\"0\" x2=\"387\" y2=\"20\" style=\"stroke:#dc141e;stroke-width:3;\" /><line x1=\"388\" y1=\"0\" x2=\"388\" y2=\"20\" style=\"stroke:#db141e;stroke-width:3;\" /><line x1=\"389\" y1=\"0\" x2=\"389\" y2=\"20\" style=\"stroke:#da131e;stroke-width:3;\" /><line x1=\"390\" y1=\"0\" x2=\"390\" y2=\"20\" style=\"stroke:#da131e;stroke-width:3;\" /><line x1=\"391\" y1=\"0\" x2=\"391\" y2=\"20\" style=\"stroke:#d9131e;stroke-width:3;\" /><line x1=\"392\" y1=\"0\" x2=\"392\" y2=\"20\" style=\"stroke:#d9121e;stroke-width:3;\" /><line x1=\"393\" y1=\"0\" x2=\"393\" y2=\"20\" style=\"stroke:#d8121f;stroke-width:3;\" /><line x1=\"394\" y1=\"0\" x2=\"394\" y2=\"20\" style=\"stroke:#d7111f;stroke-width:3;\" /><line x1=\"395\" y1=\"0\" x2=\"395\" y2=\"20\" style=\"stroke:#d7111f;stroke-width:3;\" /><line x1=\"396\" y1=\"0\" x2=\"396\" y2=\"20\" style=\"stroke:#d6111f;stroke-width:3;\" /><line x1=\"397\" y1=\"0\" x2=\"397\" y2=\"20\" style=\"stroke:#d5101f;stroke-width:3;\" /><line x1=\"398\" y1=\"0\" x2=\"398\" y2=\"20\" style=\"stroke:#d5101f;stroke-width:3;\" /><line x1=\"399\" y1=\"0\" x2=\"399\" y2=\"20\" style=\"stroke:#d40f20;stroke-width:3;\" /><line x1=\"400\" y1=\"0\" x2=\"400\" y2=\"20\" style=\"stroke:#d40f20;stroke-width:3;\" /><line x1=\"401\" y1=\"0\" x2=\"401\" y2=\"20\" style=\"stroke:#d30e20;stroke-width:3;\" /><line x1=\"402\" y1=\"0\" x2=\"402\" y2=\"20\" style=\"stroke:#d20e20;stroke-width:3;\" /><line x1=\"403\" y1=\"0\" x2=\"403\" y2=\"20\" style=\"stroke:#d20e20;stroke-width:3;\" /><line x1=\"404\" y1=\"0\" x2=\"404\" y2=\"20\" style=\"stroke:#d10d20;stroke-width:3;\" /><line x1=\"405\" y1=\"0\" x2=\"405\" y2=\"20\" style=\"stroke:#d10d21;stroke-width:3;\" /><line x1=\"406\" y1=\"0\" x2=\"406\" y2=\"20\" style=\"stroke:#d00c21;stroke-width:3;\" /><line x1=\"407\" y1=\"0\" x2=\"407\" y2=\"20\" style=\"stroke:#cf0c21;stroke-width:3;\" /><line x1=\"408\" y1=\"0\" x2=\"408\" y2=\"20\" style=\"stroke:#cf0b21;stroke-width:3;\" /><line x1=\"409\" y1=\"0\" x2=\"409\" y2=\"20\" style=\"stroke:#ce0b21;stroke-width:3;\" /><line x1=\"410\" y1=\"0\" x2=\"410\" y2=\"20\" style=\"stroke:#ce0b21;stroke-width:3;\" /><line x1=\"411\" y1=\"0\" x2=\"411\" y2=\"20\" style=\"stroke:#cd0a22;stroke-width:3;\" /><line x1=\"412\" y1=\"0\" x2=\"412\" y2=\"20\" style=\"stroke:#cc0a22;stroke-width:3;\" /><line x1=\"413\" y1=\"0\" x2=\"413\" y2=\"20\" style=\"stroke:#cc0922;stroke-width:3;\" /><line x1=\"414\" y1=\"0\" x2=\"414\" y2=\"20\" style=\"stroke:#cb0922;stroke-width:3;\" /><line x1=\"415\" y1=\"0\" x2=\"415\" y2=\"20\" style=\"stroke:#ca0922;stroke-width:3;\" /><line x1=\"416\" y1=\"0\" x2=\"416\" y2=\"20\" style=\"stroke:#ca0822;stroke-width:3;\" /><line x1=\"417\" y1=\"0\" x2=\"417\" y2=\"20\" style=\"stroke:#c90822;stroke-width:3;\" /><line x1=\"418\" y1=\"0\" x2=\"418\" y2=\"20\" style=\"stroke:#c90723;stroke-width:3;\" /><line x1=\"419\" y1=\"0\" x2=\"419\" y2=\"20\" style=\"stroke:#c80723;stroke-width:3;\" /><line x1=\"420\" y1=\"0\" x2=\"420\" y2=\"20\" style=\"stroke:#c70623;stroke-width:3;\" /><line x1=\"421\" y1=\"0\" x2=\"421\" y2=\"20\" style=\"stroke:#c70623;stroke-width:3;\" /><line x1=\"422\" y1=\"0\" x2=\"422\" y2=\"20\" style=\"stroke:#c60623;stroke-width:3;\" /><line x1=\"423\" y1=\"0\" x2=\"423\" y2=\"20\" style=\"stroke:#c60523;stroke-width:3;\" /><line x1=\"424\" y1=\"0\" x2=\"424\" y2=\"20\" style=\"stroke:#c50524;stroke-width:3;\" /><line x1=\"425\" y1=\"0\" x2=\"425\" y2=\"20\" style=\"stroke:#c40424;stroke-width:3;\" /><line x1=\"426\" y1=\"0\" x2=\"426\" y2=\"20\" style=\"stroke:#c40424;stroke-width:3;\" /><line x1=\"427\" y1=\"0\" x2=\"427\" y2=\"20\" style=\"stroke:#c30424;stroke-width:3;\" /><line x1=\"428\" y1=\"0\" x2=\"428\" y2=\"20\" style=\"stroke:#c30324;stroke-width:3;\" /><line x1=\"429\" y1=\"0\" x2=\"429\" y2=\"20\" style=\"stroke:#c20324;stroke-width:3;\" /><line x1=\"430\" y1=\"0\" x2=\"430\" y2=\"20\" style=\"stroke:#c10225;stroke-width:3;\" /><line x1=\"431\" y1=\"0\" x2=\"431\" y2=\"20\" style=\"stroke:#c10225;stroke-width:3;\" /><line x1=\"432\" y1=\"0\" x2=\"432\" y2=\"20\" style=\"stroke:#c00125;stroke-width:3;\" /><line x1=\"433\" y1=\"0\" x2=\"433\" y2=\"20\" style=\"stroke:#bf0125;stroke-width:3;\" /><line x1=\"434\" y1=\"0\" x2=\"434\" y2=\"20\" style=\"stroke:#bf0125;stroke-width:3;\" /><line x1=\"435\" y1=\"0\" x2=\"435\" y2=\"20\" style=\"stroke:#be0025;stroke-width:3;\" /><line x1=\"436\" y1=\"0\" x2=\"436\" y2=\"20\" style=\"stroke:#be0026;stroke-width:3;\" /><line x1=\"437\" y1=\"0\" x2=\"437\" y2=\"20\" style=\"stroke:#bd0026;stroke-width:3;\" /><line x1=\"438\" y1=\"0\" x2=\"438\" y2=\"20\" style=\"stroke:#bc0026;stroke-width:3;\" /><line x1=\"439\" y1=\"0\" x2=\"439\" y2=\"20\" style=\"stroke:#bb0026;stroke-width:3;\" /><line x1=\"440\" y1=\"0\" x2=\"440\" y2=\"20\" style=\"stroke:#ba0026;stroke-width:3;\" /><line x1=\"441\" y1=\"0\" x2=\"441\" y2=\"20\" style=\"stroke:#b90026;stroke-width:3;\" /><line x1=\"442\" y1=\"0\" x2=\"442\" y2=\"20\" style=\"stroke:#b80026;stroke-width:3;\" /><line x1=\"443\" y1=\"0\" x2=\"443\" y2=\"20\" style=\"stroke:#b70026;stroke-width:3;\" /><line x1=\"444\" y1=\"0\" x2=\"444\" y2=\"20\" style=\"stroke:#b60026;stroke-width:3;\" /><line x1=\"445\" y1=\"0\" x2=\"445\" y2=\"20\" style=\"stroke:#b50026;stroke-width:3;\" /><line x1=\"446\" y1=\"0\" x2=\"446\" y2=\"20\" style=\"stroke:#b40026;stroke-width:3;\" /><line x1=\"447\" y1=\"0\" x2=\"447\" y2=\"20\" style=\"stroke:#b30026;stroke-width:3;\" /><line x1=\"448\" y1=\"0\" x2=\"448\" y2=\"20\" style=\"stroke:#b20026;stroke-width:3;\" /><line x1=\"449\" y1=\"0\" x2=\"449\" y2=\"20\" style=\"stroke:#b10026;stroke-width:3;\" /><line x1=\"450\" y1=\"0\" x2=\"450\" y2=\"20\" style=\"stroke:#b00026;stroke-width:3;\" /><line x1=\"451\" y1=\"0\" x2=\"451\" y2=\"20\" style=\"stroke:#af0026;stroke-width:3;\" /><line x1=\"452\" y1=\"0\" x2=\"452\" y2=\"20\" style=\"stroke:#ae0026;stroke-width:3;\" /><line x1=\"453\" y1=\"0\" x2=\"453\" y2=\"20\" style=\"stroke:#ad0026;stroke-width:3;\" /><line x1=\"454\" y1=\"0\" x2=\"454\" y2=\"20\" style=\"stroke:#ac0026;stroke-width:3;\" /><line x1=\"455\" y1=\"0\" x2=\"455\" y2=\"20\" style=\"stroke:#ab0026;stroke-width:3;\" /><line x1=\"456\" y1=\"0\" x2=\"456\" y2=\"20\" style=\"stroke:#aa0026;stroke-width:3;\" /><line x1=\"457\" y1=\"0\" x2=\"457\" y2=\"20\" style=\"stroke:#a90026;stroke-width:3;\" /><line x1=\"458\" y1=\"0\" x2=\"458\" y2=\"20\" style=\"stroke:#a80026;stroke-width:3;\" /><line x1=\"459\" y1=\"0\" x2=\"459\" y2=\"20\" style=\"stroke:#a70026;stroke-width:3;\" /><line x1=\"460\" y1=\"0\" x2=\"460\" y2=\"20\" style=\"stroke:#a60026;stroke-width:3;\" /><line x1=\"461\" y1=\"0\" x2=\"461\" y2=\"20\" style=\"stroke:#a50026;stroke-width:3;\" /><line x1=\"462\" y1=\"0\" x2=\"462\" y2=\"20\" style=\"stroke:#a40026;stroke-width:3;\" /><line x1=\"463\" y1=\"0\" x2=\"463\" y2=\"20\" style=\"stroke:#a30026;stroke-width:3;\" /><line x1=\"464\" y1=\"0\" x2=\"464\" y2=\"20\" style=\"stroke:#a20026;stroke-width:3;\" /><line x1=\"465\" y1=\"0\" x2=\"465\" y2=\"20\" style=\"stroke:#a10026;stroke-width:3;\" /><line x1=\"466\" y1=\"0\" x2=\"466\" y2=\"20\" style=\"stroke:#a00026;stroke-width:3;\" /><line x1=\"467\" y1=\"0\" x2=\"467\" y2=\"20\" style=\"stroke:#9f0026;stroke-width:3;\" /><line x1=\"468\" y1=\"0\" x2=\"468\" y2=\"20\" style=\"stroke:#9e0026;stroke-width:3;\" /><line x1=\"469\" y1=\"0\" x2=\"469\" y2=\"20\" style=\"stroke:#9d0026;stroke-width:3;\" /><line x1=\"470\" y1=\"0\" x2=\"470\" y2=\"20\" style=\"stroke:#9c0026;stroke-width:3;\" /><line x1=\"471\" y1=\"0\" x2=\"471\" y2=\"20\" style=\"stroke:#9b0026;stroke-width:3;\" /><line x1=\"472\" y1=\"0\" x2=\"472\" y2=\"20\" style=\"stroke:#9b0026;stroke-width:3;\" /><line x1=\"473\" y1=\"0\" x2=\"473\" y2=\"20\" style=\"stroke:#9a0026;stroke-width:3;\" /><line x1=\"474\" y1=\"0\" x2=\"474\" y2=\"20\" style=\"stroke:#990026;stroke-width:3;\" /><line x1=\"475\" y1=\"0\" x2=\"475\" y2=\"20\" style=\"stroke:#980026;stroke-width:3;\" /><line x1=\"476\" y1=\"0\" x2=\"476\" y2=\"20\" style=\"stroke:#970026;stroke-width:3;\" /><line x1=\"477\" y1=\"0\" x2=\"477\" y2=\"20\" style=\"stroke:#960026;stroke-width:3;\" /><line x1=\"478\" y1=\"0\" x2=\"478\" y2=\"20\" style=\"stroke:#950026;stroke-width:3;\" /><line x1=\"479\" y1=\"0\" x2=\"479\" y2=\"20\" style=\"stroke:#940026;stroke-width:3;\" /><line x1=\"480\" y1=\"0\" x2=\"480\" y2=\"20\" style=\"stroke:#930026;stroke-width:3;\" /><line x1=\"481\" y1=\"0\" x2=\"481\" y2=\"20\" style=\"stroke:#920026;stroke-width:3;\" /><line x1=\"482\" y1=\"0\" x2=\"482\" y2=\"20\" style=\"stroke:#910026;stroke-width:3;\" /><line x1=\"483\" y1=\"0\" x2=\"483\" y2=\"20\" style=\"stroke:#900026;stroke-width:3;\" /><line x1=\"484\" y1=\"0\" x2=\"484\" y2=\"20\" style=\"stroke:#8f0026;stroke-width:3;\" /><line x1=\"485\" y1=\"0\" x2=\"485\" y2=\"20\" style=\"stroke:#8e0026;stroke-width:3;\" /><line x1=\"486\" y1=\"0\" x2=\"486\" y2=\"20\" style=\"stroke:#8d0026;stroke-width:3;\" /><line x1=\"487\" y1=\"0\" x2=\"487\" y2=\"20\" style=\"stroke:#8c0026;stroke-width:3;\" /><line x1=\"488\" y1=\"0\" x2=\"488\" y2=\"20\" style=\"stroke:#8b0026;stroke-width:3;\" /><line x1=\"489\" y1=\"0\" x2=\"489\" y2=\"20\" style=\"stroke:#8a0026;stroke-width:3;\" /><line x1=\"490\" y1=\"0\" x2=\"490\" y2=\"20\" style=\"stroke:#890026;stroke-width:3;\" /><line x1=\"491\" y1=\"0\" x2=\"491\" y2=\"20\" style=\"stroke:#880026;stroke-width:3;\" /><line x1=\"492\" y1=\"0\" x2=\"492\" y2=\"20\" style=\"stroke:#870026;stroke-width:3;\" /><line x1=\"493\" y1=\"0\" x2=\"493\" y2=\"20\" style=\"stroke:#860026;stroke-width:3;\" /><line x1=\"494\" y1=\"0\" x2=\"494\" y2=\"20\" style=\"stroke:#850026;stroke-width:3;\" /><line x1=\"495\" y1=\"0\" x2=\"495\" y2=\"20\" style=\"stroke:#840026;stroke-width:3;\" /><line x1=\"496\" y1=\"0\" x2=\"496\" y2=\"20\" style=\"stroke:#830026;stroke-width:3;\" /><line x1=\"497\" y1=\"0\" x2=\"497\" y2=\"20\" style=\"stroke:#820026;stroke-width:3;\" /><line x1=\"498\" y1=\"0\" x2=\"498\" y2=\"20\" style=\"stroke:#810026;stroke-width:3;\" /><line x1=\"499\" y1=\"0\" x2=\"499\" y2=\"20\" style=\"stroke:#800026;stroke-width:3;\" /><text x=\"0\" y=\"35\">1050</text><text x=\"500\" y=\"35\" style=\"text-anchor:end;\">2650</text></svg>"
      ],
      "text/plain": [
       "<branca.colormap.LinearColormap at 0x2bf3e9dcb38>"
      ]
     },
     "execution_count": 11,
     "metadata": {},
     "output_type": "execute_result"
    }
   ],
   "source": [
    "colormap = linear.YlOrRd_09.scale(1050, 2650)\n",
    "colormap"
   ]
  },
  {
   "cell_type": "markdown",
   "metadata": {},
   "source": [
    "Initializing a map"
   ]
  },
  {
   "cell_type": "code",
   "execution_count": 12,
   "metadata": {},
   "outputs": [],
   "source": [
    "zip_codes = os.path.join('..', 'data', 'wa_washington_zip_codes_geo.min.json')"
   ]
  },
  {
   "cell_type": "code",
   "execution_count": 13,
   "metadata": {},
   "outputs": [
    {
     "data": {
      "text/html": [
       "<div style=\"width:100%;\"><div style=\"position:relative;width:100%;height:0;padding-bottom:60%;\"><iframe src=\"data:text/html;charset=utf-8;base64,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\" style=\"position:absolute;width:100%;height:100%;left:0;top:0;border:none !important;\" allowfullscreen webkitallowfullscreen mozallowfullscreen></iframe></div></div>"
      ],
      "text/plain": [
       "<folium.folium.Map at 0x2bf3e9dc7b8>"
      ]
     },
     "execution_count": 13,
     "metadata": {},
     "output_type": "execute_result"
    }
   ],
   "source": [
    "m = folium.Map(location=[47.6553, -122.3035], zoom_start=12, min_zoom=10)\n",
    "m.add_child(colormap)"
   ]
  },
  {
   "cell_type": "markdown",
   "metadata": {},
   "source": [
    "## Studio Rental Price Layer"
   ]
  },
  {
   "cell_type": "code",
   "execution_count": 14,
   "metadata": {},
   "outputs": [],
   "source": [
    "def style_function(feature):\n",
    "    if feature['properties']['ZCTA5CE10'] in studio_rental_dict: \n",
    "        return {\n",
    "        'fillOpacity' : 0.5,\n",
    "        'weight' : 1,\n",
    "        'fillColor': colormap(studio_rental_dict[feature['properties']['ZCTA5CE10']]),\n",
    "        'color' : 'Black',\n",
    "        }\n",
    "    else:\n",
    "        return {\n",
    "            'fillColor': 'none',\n",
    "            'weight' : 0,\n",
    "            'line_opacity' : 0.1,\n",
    "            'color': 'Black',\n",
    "        }\n",
    "\n",
    "studio_geojson = folium.GeoJson(\n",
    "    zip_codes,\n",
    "    name='Average Monthly Rent for a Studio Apartment',\n",
    "    style_function=style_function,\n",
    ")"
   ]
  },
  {
   "cell_type": "markdown",
   "metadata": {},
   "source": [
    "## One Bedroom Rental Price Layer"
   ]
  },
  {
   "cell_type": "code",
   "execution_count": 15,
   "metadata": {},
   "outputs": [],
   "source": [
    "def style_function_2(feature):\n",
    "    if feature['properties']['ZCTA5CE10'] in onebr_rental_dict: \n",
    "        return {\n",
    "        'fillOpacity' : 0.5,\n",
    "        'weight' : 1,\n",
    "        'fillColor': colormap(onebr_rental_dict[feature['properties']['ZCTA5CE10']]),\n",
    "        'color' : 'Black',\n",
    "        }\n",
    "    else:\n",
    "        return {\n",
    "            'fillColor': 'none',\n",
    "            'weight' : 0,\n",
    "            'line_opacity' : 0.1,\n",
    "            'color': 'Black',\n",
    "        }\n",
    "\n",
    "onebr_geojson = folium.GeoJson(\n",
    "    zip_codes,\n",
    "    name='Average Monthly Rent for a One Bedroom Apartment',\n",
    "    style_function=style_function_2,\n",
    ")"
   ]
  },
  {
   "cell_type": "code",
   "execution_count": 16,
   "metadata": {},
   "outputs": [
    {
     "data": {
      "text/plain": [
       "<folium.features.GeoJson at 0x2bf489ad9b0>"
      ]
     },
     "execution_count": 16,
     "metadata": {},
     "output_type": "execute_result"
    }
   ],
   "source": [
    "studio_geojson.add_to(m)\n",
    "onebr_geojson.add_to(m)"
   ]
  },
  {
   "cell_type": "markdown",
   "metadata": {},
   "source": [
    "folium.Choropleth(\n",
    "    geo_data=zip_codes,\n",
    "    data=studio_rental,\n",
    "    columns=['RegionName', '2018-09'],\n",
    "    key_on= 'feature.properties.ZCTA5CE10',\n",
    "    fill_color='YlOrRd',\n",
    "    nan_fill_color = 'none',\n",
    "    line_weight = 0.5,\n",
    "    name = 'Studio Rental Pricing by Zip Code',\n",
    "    legend_name = 'Average Monthly Rental Price for a Studio Apartment'\n",
    ").add_to(m)"
   ]
  },
  {
   "cell_type": "markdown",
   "metadata": {},
   "source": [
    "folium.Choropleth(\n",
    "    geo_data=zip_codes,\n",
    "    data=onebr_rental,\n",
    "    columns=['RegionName', '2018-09'],\n",
    "    key_on= 'feature.properties.ZCTA5CE10',\n",
    "    fill_color='YlOrRd',\n",
    "    nan_fill_color = 'none',\n",
    "    line_weight = 0.5,\n",
    "    name = 'One Bedroom Rental Pricing by Zip Code',\n",
    "    legend_name = 'Average Monthly Rental Price for a One Bedroom Apartment'\n",
    ").add_to(m)"
   ]
  },
  {
   "cell_type": "code",
   "execution_count": 17,
   "metadata": {},
   "outputs": [],
   "source": [
    "#help(folium.GeoJson)"
   ]
  },
  {
   "cell_type": "markdown",
   "metadata": {},
   "source": [
    "Adding Greenspace Data"
   ]
  },
  {
   "cell_type": "code",
   "execution_count": 17,
   "metadata": {},
   "outputs": [],
   "source": [
    "greenspace = os.path.join('..', 'data', 'greenspace2.geojson')"
   ]
  },
  {
   "cell_type": "code",
   "execution_count": 18,
   "metadata": {},
   "outputs": [
    {
     "data": {
      "text/plain": [
       "<folium.features.GeoJson at 0x2bf489ad898>"
      ]
     },
     "execution_count": 18,
     "metadata": {},
     "output_type": "execute_result"
    }
   ],
   "source": [
    "greenspace_geojson = folium.GeoJson(\n",
    "    greenspace,\n",
    "    name=\"Greenspace Markers\",\n",
    "    show=False\n",
    ")\n",
    "\n",
    "greenspace_geojson.add_to(m)"
   ]
  },
  {
   "cell_type": "markdown",
   "metadata": {},
   "source": [
    "## Transit Route Data"
   ]
  },
  {
   "cell_type": "code",
   "execution_count": 19,
   "metadata": {},
   "outputs": [],
   "source": [
    "transit = os.path.join('..', 'data', 'Transit_Routes_for_King_County_Metro__transitroute_line.geojson')"
   ]
  },
  {
   "cell_type": "code",
   "execution_count": 20,
   "metadata": {},
   "outputs": [
    {
     "data": {
      "text/plain": [
       "<folium.features.GeoJson at 0x2bf48be4d68>"
      ]
     },
     "execution_count": 20,
     "metadata": {},
     "output_type": "execute_result"
    }
   ],
   "source": [
    "def style_function3(feature):\n",
    "    return {\n",
    "        'fillColor': '#ffaf00',\n",
    "        'line_opacity' : 0.5,\n",
    "        'color': 'gray',\n",
    "        'weight': 1.5,\n",
    "        'dashArray': '5, 5'\n",
    "    }\n",
    "\n",
    "def highlight_function(feature):\n",
    "    return{\n",
    "        'fillColor': '#ffaf00',\n",
    "        'line_opacity' : 1,\n",
    "        'color': 'blue',\n",
    "        'weight': 3,\n",
    "    }\n",
    "\n",
    "    \n",
    "transit_geojson = folium.GeoJson(\n",
    "    transit, \n",
    "    name=\"Transit Routes\",\n",
    "    show=False,\n",
    "    style_function=style_function3,\n",
    "    highlight_function=highlight_function,\n",
    "    tooltip=folium.features.GeoJsonTooltip(['ROUTE_NUM'], aliases=['Route Number'], interactive=True)\n",
    ")\n",
    "\n",
    "transit_geojson.add_to(m)"
   ]
  },
  {
   "cell_type": "code",
   "execution_count": 21,
   "metadata": {},
   "outputs": [],
   "source": [
    "folium.LayerControl().add_to(m)\n",
    "m.save('GradPads.html')"
   ]
  },
  {
   "cell_type": "code",
   "execution_count": null,
   "metadata": {},
   "outputs": [],
   "source": []
  }
 ],
 "metadata": {
  "kernelspec": {
   "display_name": "Python 3",
   "language": "python",
   "name": "python3"
  },
  "language_info": {
   "codemirror_mode": {
    "name": "ipython",
    "version": 3
   },
   "file_extension": ".py",
   "mimetype": "text/x-python",
   "name": "python",
   "nbconvert_exporter": "python",
   "pygments_lexer": "ipython3",
   "version": "3.7.0"
  }
 },
 "nbformat": 4,
 "nbformat_minor": 2
}
