{
 "cells": [
  {
   "cell_type": "code",
   "execution_count": 15,
   "metadata": {},
   "outputs": [],
   "source": [
    "import pandas as pd\n",
    "import folium\n",
    "import os\n",
    "import datetime"
   ]
  },
  {
   "cell_type": "markdown",
   "metadata": {},
   "source": [
    "## The path to our geodata. "
   ]
  },
  {
   "cell_type": "code",
   "execution_count": 16,
   "metadata": {},
   "outputs": [],
   "source": [
    "beats = os.path.join('..', 'data', 'SPD_Beats_WGS84.json')"
   ]
  },
  {
   "cell_type": "markdown",
   "metadata": {},
   "source": [
    "## Importing crime data"
   ]
  },
  {
   "cell_type": "code",
   "execution_count": 3,
   "metadata": {},
   "outputs": [],
   "source": [
    "crime_data = os.path.join('..', 'data', 'Crime_Data.csv')\n",
    "crime_df = pd.read_csv(crime_data)\n",
    "crime_df['Occurred Date'] = pd.to_datetime(crime_df['Occurred Date'])\n",
    "crime_df = crime_df[crime_df['Occurred Date'] > pd.Timestamp(2017,1,1)]\n",
    "crime_df['Count'] = 1"
   ]
  },
  {
   "cell_type": "markdown",
   "metadata": {},
   "source": [
    "## Making a total crime incidents layer"
   ]
  },
  {
   "cell_type": "code",
   "execution_count": 4,
   "metadata": {},
   "outputs": [],
   "source": [
    "total_crime_df = crime_df[['Occurred Date', 'Beat', 'Count']]"
   ]
  },
  {
   "cell_type": "code",
   "execution_count": 5,
   "metadata": {},
   "outputs": [],
   "source": [
    "total_crime_per_beat = total_crime_df.groupby('Beat', as_index=False).sum()"
   ]
  },
  {
   "cell_type": "code",
   "execution_count": 6,
   "metadata": {},
   "outputs": [
    {
     "data": {
      "text/plain": [
       "<folium.features.Choropleth at 0x21656d4b9b0>"
      ]
     },
     "execution_count": 6,
     "metadata": {},
     "output_type": "execute_result"
    }
   ],
   "source": [
    "m = folium.Map(location=[47.6553, -122.3035], zoom_start=12, min_zoom=10)\n",
    "\n",
    "total_crime_layer = folium.Choropleth(\n",
    "    geo_data=beats,\n",
    "    data=total_crime_per_beat,\n",
    "    columns=['Beat', 'Count'],\n",
    "    key_on= 'feature.properties.beat',\n",
    "    fill_color='BuPu',\n",
    "    nan_fill_color = 'none',\n",
    "    line_weight = 0.5,\n",
    "    name='Total Crime Incidents',\n",
    "    legend_name = 'Total Crime Incidents 2018'\n",
    ")\n",
    "\n",
    "total_crime_layer.add_to(m)"
   ]
  },
  {
   "cell_type": "markdown",
   "metadata": {},
   "source": [
    "# Making crime layers for specific crimes which may be of interest to graduate students"
   ]
  },
  {
   "cell_type": "code",
   "execution_count": 8,
   "metadata": {},
   "outputs": [],
   "source": [
    "theft_category_groupby = crime_df.groupby(['Beat', 'Crime Subcategory'], as_index=False).sum()"
   ]
  },
  {
   "cell_type": "code",
   "execution_count": 9,
   "metadata": {},
   "outputs": [],
   "source": [
    "theft_category_groupby = theft_category_groupby[['Beat', 'Crime Subcategory', 'Count']]"
   ]
  },
  {
   "cell_type": "code",
   "execution_count": 10,
   "metadata": {},
   "outputs": [],
   "source": [
    "bike_theft_groupby = theft_category_groupby[theft_category_groupby['Crime Subcategory'] == 'THEFT-BICYCLE']"
   ]
  },
  {
   "cell_type": "code",
   "execution_count": 11,
   "metadata": {},
   "outputs": [
    {
     "data": {
      "text/plain": [
       "<folium.features.Choropleth at 0x2165707f470>"
      ]
     },
     "execution_count": 11,
     "metadata": {},
     "output_type": "execute_result"
    }
   ],
   "source": [
    "bike_theft_layer = folium.Choropleth(\n",
    "    geo_data=beats,\n",
    "    data=bike_theft_groupby,\n",
    "    columns=['Beat', 'Count'],\n",
    "    key_on= 'feature.properties.beat',\n",
    "    fill_color='BuPu',\n",
    "    nan_fill_color = 'none',\n",
    "    line_weight = 0.5,\n",
    "    name='Bike Theft',\n",
    "    legend_name = 'Incidents of Bike Theft, Since 2017'\n",
    ")\n",
    "\n",
    "bike_theft_layer.add_to(m)"
   ]
  },
  {
   "cell_type": "code",
   "execution_count": 12,
   "metadata": {},
   "outputs": [],
   "source": [
    "car_prowl = theft_category_groupby[theft_category_groupby['Crime Subcategory'] == 'CAR PROWL']"
   ]
  },
  {
   "cell_type": "code",
   "execution_count": 13,
   "metadata": {},
   "outputs": [
    {
     "data": {
      "text/plain": [
       "<folium.features.Choropleth at 0x2165730e1d0>"
      ]
     },
     "execution_count": 13,
     "metadata": {},
     "output_type": "execute_result"
    }
   ],
   "source": [
    "car_prowl_layer = folium.Choropleth(\n",
    "    geo_data=beats,\n",
    "    data=car_prowl,\n",
    "    columns=['Beat', 'Count'],\n",
    "    key_on= 'feature.properties.beat',\n",
    "    fill_color='BuPu',\n",
    "    nan_fill_color = 'none',\n",
    "    line_weight = 0.5,\n",
    "    name='Car Prowl',\n",
    "    legend_name = 'Incidents of Car Prowl, Since 2017'\n",
    ")\n",
    "\n",
    "car_prowl_layer.add_to(m)"
   ]
  },
  {
   "cell_type": "code",
   "execution_count": 14,
   "metadata": {},
   "outputs": [],
   "source": [
    "folium.LayerControl().add_to(m)\n",
    "m.save('beats.html')"
   ]
  }
 ],
 "metadata": {
  "kernelspec": {
   "display_name": "Python 3",
   "language": "python",
   "name": "python3"
  },
  "language_info": {
   "codemirror_mode": {
    "name": "ipython",
    "version": 3
   },
   "file_extension": ".py",
   "mimetype": "text/x-python",
   "name": "python",
   "nbconvert_exporter": "python",
   "pygments_lexer": "ipython3",
   "version": "3.7.1"
  }
 },
 "nbformat": 4,
 "nbformat_minor": 2
}
