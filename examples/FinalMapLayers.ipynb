{
 "cells": [
  {
   "cell_type": "code",
   "execution_count": 2,
   "metadata": {},
   "outputs": [],
   "source": [
    "import pandas as pd\n",
    "import folium\n",
    "import os"
   ]
  },
  {
   "cell_type": "markdown",
   "metadata": {},
   "source": [
    "Importing and manipulating data"
   ]
  },
  {
   "cell_type": "code",
   "execution_count": 16,
   "metadata": {},
   "outputs": [],
   "source": [
    "seattle_zips = [98125, 98133, 98177, 98117, 98107, 98103, 98115, 98105,\n",
    "                98112, 98102, 98109, 98119, 98199, 98121, 98101, 98104,\n",
    "                98122, 98144, 98134, 98108, 98118, 98106, 98126, 98116, \n",
    "                98136]\n",
    "\n",
    "zillow_columns = ['RegionName', 'City', 'State', '2018-09']"
   ]
  },
  {
   "cell_type": "code",
   "execution_count": 35,
   "metadata": {},
   "outputs": [],
   "source": [
    "def df_slicer(df, region_list, region_column_str, columns_list):\n",
    "    df = df[df[region_column_str].isin(region_list)]\n",
    "    df = df[columns_list]\n",
    "    df[region_column_str] = df[region_column_str].astype(str)\n",
    "    print(df)\n",
    "    return df"
   ]
  },
  {
   "cell_type": "markdown",
   "metadata": {},
   "source": [
    "Importing Studio Data"
   ]
  },
  {
   "cell_type": "code",
   "execution_count": 38,
   "metadata": {},
   "outputs": [],
   "source": [
    "studio_rental_path = os.path.join('..', 'data', 'Zip_MedianRentalPrice_Studio.csv')\n",
    "studio_rental = pd.read_csv(studio_rental_path)"
   ]
  },
  {
   "cell_type": "code",
   "execution_count": 39,
   "metadata": {},
   "outputs": [
    {
     "name": "stdout",
     "output_type": "stream",
     "text": [
      "    RegionName     City State  2018-09\n",
      "72       98103  Seattle    WA   1375.0\n",
      "109      98115  Seattle    WA   1443.0\n",
      "132      98122  Seattle    WA   1565.0\n",
      "222      98109  Seattle    WA   1850.0\n",
      "291      98105  Seattle    WA   1100.0\n",
      "352      98102  Seattle    WA   1448.0\n",
      "462      98107  Seattle    WA   1395.0\n",
      "512      98121  Seattle    WA   1800.0\n",
      "670      98101  Seattle    WA   1937.0\n",
      "769      98104  Seattle    WA   1650.0\n"
     ]
    }
   ],
   "source": [
    "studio_rental = df_slicer(studio_rental, seattle_zips, 'RegionName', zillow_columns)"
   ]
  },
  {
   "cell_type": "markdown",
   "metadata": {},
   "source": [
    "Importing One Bedroom Zillow Rental Price Data"
   ]
  },
  {
   "cell_type": "code",
   "execution_count": 41,
   "metadata": {},
   "outputs": [],
   "source": [
    "onebr_rental_path = os.path.join('..', 'data', 'Zip_MedianRentalPrice_1Bedroom.csv')\n",
    "\n",
    "onebr_rental = pd.read_csv(onebr_rental_path)"
   ]
  },
  {
   "cell_type": "code",
   "execution_count": 42,
   "metadata": {},
   "outputs": [
    {
     "name": "stdout",
     "output_type": "stream",
     "text": [
      "     RegionName       City State  2018-09\n",
      "121       98103    Seattle    WA   1695.0\n",
      "195       98115    Seattle    WA   1724.5\n",
      "223       98133  Shoreline    WA   1446.0\n",
      "232       98122    Seattle    WA   2055.0\n",
      "359       98109    Seattle    WA   2350.0\n",
      "367       98125    Seattle    WA   1495.0\n",
      "457       98105    Seattle    WA   1465.0\n",
      "465       98118    Seattle    WA   1830.0\n",
      "556       98102    Seattle    WA   1695.0\n",
      "686       98107    Seattle    WA   1801.5\n",
      "691       98117    Seattle    WA   1595.0\n",
      "743       98121    Seattle    WA   2620.0\n",
      "757       98116    Seattle    WA   1801.0\n",
      "835       98119    Seattle    WA   1840.0\n",
      "964       98101    Seattle    WA   2475.0\n",
      "968       98112    Seattle    WA   1762.5\n",
      "1009      98126    Seattle    WA   1604.0\n",
      "1109      98104    Seattle    WA   1999.0\n"
     ]
    }
   ],
   "source": [
    "onebr_rental = df_slicer(onebr_rental, seattle_zips, 'RegionName', zillow_columns)"
   ]
  },
  {
   "cell_type": "markdown",
   "metadata": {},
   "source": [
    "Initializing a map"
   ]
  },
  {
   "cell_type": "code",
   "execution_count": 43,
   "metadata": {},
   "outputs": [],
   "source": [
    "zip_codes = os.path.join('..', 'data', 'wa_washington_zip_codes_geo.min.json')"
   ]
  },
  {
   "cell_type": "code",
   "execution_count": 60,
   "metadata": {},
   "outputs": [],
   "source": [
    "m = folium.Map(location=[47.6553, -122.3035], zoom_start=12, min_zoom=10)"
   ]
  },
  {
   "cell_type": "code",
   "execution_count": 61,
   "metadata": {},
   "outputs": [
    {
     "data": {
      "text/plain": [
       "<folium.features.Choropleth at 0x20f289de2b0>"
      ]
     },
     "execution_count": 61,
     "metadata": {},
     "output_type": "execute_result"
    }
   ],
   "source": [
    "folium.Choropleth(\n",
    "    geo_data=zip_codes,\n",
    "    data=studio_rental,\n",
    "    columns=['RegionName', '2018-09'],\n",
    "    key_on= 'feature.properties.ZCTA5CE10',\n",
    "    fill_color='YlOrRd',\n",
    "    nan_fill_color = 'none',\n",
    "    line_weight = 0.5,\n",
    "    name = 'Studio Rental Pricing by Zip Code',\n",
    "    legend_name = 'Average Monthly Rental Price for a Studio Apartment'\n",
    ").add_to(m)"
   ]
  },
  {
   "cell_type": "code",
   "execution_count": 62,
   "metadata": {},
   "outputs": [
    {
     "data": {
      "text/plain": [
       "<folium.features.Choropleth at 0x20f3be25da0>"
      ]
     },
     "execution_count": 62,
     "metadata": {},
     "output_type": "execute_result"
    }
   ],
   "source": [
    "folium.Choropleth(\n",
    "    geo_data=zip_codes,\n",
    "    data=onebr_rental,\n",
    "    columns=['RegionName', '2018-09'],\n",
    "    key_on= 'feature.properties.ZCTA5CE10',\n",
    "    fill_color='YlOrRd',\n",
    "    nan_fill_color = 'none',\n",
    "    line_weight = 0.5,\n",
    "    name = 'One Bedroom Rental Pricing by Zip Code',\n",
    "    legend_name = 'Average Monthly Rental Price for a One Bedroom Apartment'\n",
    ").add_to(m)"
   ]
  },
  {
   "cell_type": "code",
   "execution_count": 63,
   "metadata": {},
   "outputs": [
    {
     "data": {
      "text/plain": [
       "<folium.map.LayerControl at 0x20f289dbc88>"
      ]
     },
     "execution_count": 63,
     "metadata": {},
     "output_type": "execute_result"
    }
   ],
   "source": [
    "folium.LayerControl().add_to(m)"
   ]
  },
  {
   "cell_type": "code",
   "execution_count": 64,
   "metadata": {},
   "outputs": [],
   "source": [
    "m.save('new.html')"
   ]
  },
  {
   "cell_type": "code",
   "execution_count": null,
   "metadata": {},
   "outputs": [],
   "source": []
  }
 ],
 "metadata": {
  "kernelspec": {
   "display_name": "Python 3",
   "language": "python",
   "name": "python3"
  },
  "language_info": {
   "codemirror_mode": {
    "name": "ipython",
    "version": 3
   },
   "file_extension": ".py",
   "mimetype": "text/x-python",
   "name": "python",
   "nbconvert_exporter": "python",
   "pygments_lexer": "ipython3",
   "version": "3.7.0"
  }
 },
 "nbformat": 4,
 "nbformat_minor": 2
}
